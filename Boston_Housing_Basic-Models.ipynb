{
 "cells": [
  {
   "cell_type": "code",
   "execution_count": 2,
   "metadata": {},
   "outputs": [],
   "source": [
    "import numpy as np\n",
    "import pandas as pd\n",
    "import seaborn as sns\n",
    "import matplotlib.pyplot as plt"
   ]
  },
  {
   "cell_type": "code",
   "execution_count": 3,
   "metadata": {},
   "outputs": [],
   "source": [
    "df = pd.read_csv(\"train.csv\")"
   ]
  },
  {
   "cell_type": "code",
   "execution_count": 4,
   "metadata": {},
   "outputs": [
    {
     "data": {
      "text/html": [
       "<div>\n",
       "<style scoped>\n",
       "    .dataframe tbody tr th:only-of-type {\n",
       "        vertical-align: middle;\n",
       "    }\n",
       "\n",
       "    .dataframe tbody tr th {\n",
       "        vertical-align: top;\n",
       "    }\n",
       "\n",
       "    .dataframe thead th {\n",
       "        text-align: right;\n",
       "    }\n",
       "</style>\n",
       "<table border=\"1\" class=\"dataframe\">\n",
       "  <thead>\n",
       "    <tr style=\"text-align: right;\">\n",
       "      <th></th>\n",
       "      <th>ID</th>\n",
       "      <th>crim</th>\n",
       "      <th>zn</th>\n",
       "      <th>indus</th>\n",
       "      <th>chas</th>\n",
       "      <th>nox</th>\n",
       "      <th>rm</th>\n",
       "      <th>age</th>\n",
       "      <th>dis</th>\n",
       "      <th>rad</th>\n",
       "      <th>tax</th>\n",
       "      <th>ptratio</th>\n",
       "      <th>black</th>\n",
       "      <th>lstat</th>\n",
       "      <th>medv</th>\n",
       "    </tr>\n",
       "  </thead>\n",
       "  <tbody>\n",
       "    <tr>\n",
       "      <th>0</th>\n",
       "      <td>1</td>\n",
       "      <td>0.00632</td>\n",
       "      <td>18.0</td>\n",
       "      <td>2.31</td>\n",
       "      <td>0</td>\n",
       "      <td>0.538</td>\n",
       "      <td>6.575</td>\n",
       "      <td>65.2</td>\n",
       "      <td>4.0900</td>\n",
       "      <td>1</td>\n",
       "      <td>296</td>\n",
       "      <td>15.3</td>\n",
       "      <td>396.90</td>\n",
       "      <td>4.98</td>\n",
       "      <td>24.0</td>\n",
       "    </tr>\n",
       "    <tr>\n",
       "      <th>1</th>\n",
       "      <td>2</td>\n",
       "      <td>0.02731</td>\n",
       "      <td>0.0</td>\n",
       "      <td>7.07</td>\n",
       "      <td>0</td>\n",
       "      <td>0.469</td>\n",
       "      <td>6.421</td>\n",
       "      <td>78.9</td>\n",
       "      <td>4.9671</td>\n",
       "      <td>2</td>\n",
       "      <td>242</td>\n",
       "      <td>17.8</td>\n",
       "      <td>396.90</td>\n",
       "      <td>9.14</td>\n",
       "      <td>21.6</td>\n",
       "    </tr>\n",
       "    <tr>\n",
       "      <th>2</th>\n",
       "      <td>4</td>\n",
       "      <td>0.03237</td>\n",
       "      <td>0.0</td>\n",
       "      <td>2.18</td>\n",
       "      <td>0</td>\n",
       "      <td>0.458</td>\n",
       "      <td>6.998</td>\n",
       "      <td>45.8</td>\n",
       "      <td>6.0622</td>\n",
       "      <td>3</td>\n",
       "      <td>222</td>\n",
       "      <td>18.7</td>\n",
       "      <td>394.63</td>\n",
       "      <td>2.94</td>\n",
       "      <td>33.4</td>\n",
       "    </tr>\n",
       "    <tr>\n",
       "      <th>3</th>\n",
       "      <td>5</td>\n",
       "      <td>0.06905</td>\n",
       "      <td>0.0</td>\n",
       "      <td>2.18</td>\n",
       "      <td>0</td>\n",
       "      <td>0.458</td>\n",
       "      <td>7.147</td>\n",
       "      <td>54.2</td>\n",
       "      <td>6.0622</td>\n",
       "      <td>3</td>\n",
       "      <td>222</td>\n",
       "      <td>18.7</td>\n",
       "      <td>396.90</td>\n",
       "      <td>5.33</td>\n",
       "      <td>36.2</td>\n",
       "    </tr>\n",
       "    <tr>\n",
       "      <th>4</th>\n",
       "      <td>7</td>\n",
       "      <td>0.08829</td>\n",
       "      <td>12.5</td>\n",
       "      <td>7.87</td>\n",
       "      <td>0</td>\n",
       "      <td>0.524</td>\n",
       "      <td>6.012</td>\n",
       "      <td>66.6</td>\n",
       "      <td>5.5605</td>\n",
       "      <td>5</td>\n",
       "      <td>311</td>\n",
       "      <td>15.2</td>\n",
       "      <td>395.60</td>\n",
       "      <td>12.43</td>\n",
       "      <td>22.9</td>\n",
       "    </tr>\n",
       "  </tbody>\n",
       "</table>\n",
       "</div>"
      ],
      "text/plain": [
       "   ID     crim    zn  indus  chas    nox     rm   age     dis  rad  tax  \\\n",
       "0   1  0.00632  18.0   2.31     0  0.538  6.575  65.2  4.0900    1  296   \n",
       "1   2  0.02731   0.0   7.07     0  0.469  6.421  78.9  4.9671    2  242   \n",
       "2   4  0.03237   0.0   2.18     0  0.458  6.998  45.8  6.0622    3  222   \n",
       "3   5  0.06905   0.0   2.18     0  0.458  7.147  54.2  6.0622    3  222   \n",
       "4   7  0.08829  12.5   7.87     0  0.524  6.012  66.6  5.5605    5  311   \n",
       "\n",
       "   ptratio   black  lstat  medv  \n",
       "0     15.3  396.90   4.98  24.0  \n",
       "1     17.8  396.90   9.14  21.6  \n",
       "2     18.7  394.63   2.94  33.4  \n",
       "3     18.7  396.90   5.33  36.2  \n",
       "4     15.2  395.60  12.43  22.9  "
      ]
     },
     "execution_count": 4,
     "metadata": {},
     "output_type": "execute_result"
    }
   ],
   "source": [
    "df.head()"
   ]
  },
  {
   "cell_type": "markdown",
   "metadata": {},
   "source": [
    "<h1>Data Preprocessing</h1>"
   ]
  },
  {
   "cell_type": "code",
   "execution_count": 5,
   "metadata": {},
   "outputs": [
    {
     "data": {
      "text/plain": [
       "<matplotlib.axes._subplots.AxesSubplot at 0x25d5b5d6048>"
      ]
     },
     "execution_count": 5,
     "metadata": {},
     "output_type": "execute_result"
    },
    {
     "data": {
      "image/png": "[encoded data removed]",
      "text/plain": [
       "<Figure size 432x288 with 1 Axes>"
      ]
     },
     "metadata": {
      "needs_background": "light"
     },
     "output_type": "display_data"
    }
   ],
   "source": [
    "sns.scatterplot(data=df,x=\"lstat\",y=\"medv\")"
   ]
  },
  {
   "cell_type": "markdown",
   "metadata": {},
   "source": [
    "<h1>Feature Scaling</h1>"
   ]
  },
  {
   "cell_type": "code",
   "execution_count": 6,
   "metadata": {},
   "outputs": [],
   "source": [
    "from sklearn.preprocessing import StandardScaler"
   ]
  },
  {
   "cell_type": "code",
   "execution_count": 7,
   "metadata": {},
   "outputs": [
    {
     "name": "stdout",
     "output_type": "stream",
     "text": [
      "ID\n",
      "crim\n",
      "zn\n",
      "indus\n",
      "chas\n",
      "nox\n",
      "rm\n",
      "age\n",
      "dis\n",
      "rad\n",
      "tax\n",
      "ptratio\n",
      "black\n",
      "lstat\n",
      "medv\n"
     ]
    }
   ],
   "source": [
    "for col in df:\n",
    "    print (col)"
   ]
  },
  {
   "cell_type": "code",
   "execution_count": 8,
   "metadata": {},
   "outputs": [
    {
     "data": {
      "text/html": [
       "<div>\n",
       "<style scoped>\n",
       "    .dataframe tbody tr th:only-of-type {\n",
       "        vertical-align: middle;\n",
       "    }\n",
       "\n",
       "    .dataframe tbody tr th {\n",
       "        vertical-align: top;\n",
       "    }\n",
       "\n",
       "    .dataframe thead th {\n",
       "        text-align: right;\n",
       "    }\n",
       "</style>\n",
       "<table border=\"1\" class=\"dataframe\">\n",
       "  <thead>\n",
       "    <tr style=\"text-align: right;\">\n",
       "      <th></th>\n",
       "      <th>ID</th>\n",
       "      <th>crim</th>\n",
       "      <th>zn</th>\n",
       "      <th>indus</th>\n",
       "      <th>chas</th>\n",
       "      <th>nox</th>\n",
       "      <th>rm</th>\n",
       "      <th>age</th>\n",
       "      <th>dis</th>\n",
       "      <th>rad</th>\n",
       "      <th>tax</th>\n",
       "      <th>ptratio</th>\n",
       "      <th>black</th>\n",
       "      <th>lstat</th>\n",
       "      <th>medv</th>\n",
       "    </tr>\n",
       "  </thead>\n",
       "  <tbody>\n",
       "    <tr>\n",
       "      <th>0</th>\n",
       "      <td>-1.693014</td>\n",
       "      <td>-0.456875</td>\n",
       "      <td>0.322906</td>\n",
       "      <td>-1.285631</td>\n",
       "      <td>-0.25278</td>\n",
       "      <td>-0.166787</td>\n",
       "      <td>0.440154</td>\n",
       "      <td>-0.107736</td>\n",
       "      <td>0.192133</td>\n",
       "      <td>-0.98907</td>\n",
       "      <td>-0.664062</td>\n",
       "      <td>-1.465171</td>\n",
       "      <td>0.432990</td>\n",
       "      <td>-1.067772</td>\n",
       "      <td>0.134419</td>\n",
       "    </tr>\n",
       "    <tr>\n",
       "      <th>1</th>\n",
       "      <td>-1.686241</td>\n",
       "      <td>-0.454016</td>\n",
       "      <td>-0.472123</td>\n",
       "      <td>-0.604425</td>\n",
       "      <td>-0.25278</td>\n",
       "      <td>-0.767928</td>\n",
       "      <td>0.221060</td>\n",
       "      <td>0.379963</td>\n",
       "      <td>0.635528</td>\n",
       "      <td>-0.87451</td>\n",
       "      <td>-0.980620</td>\n",
       "      <td>-0.301616</td>\n",
       "      <td>0.432990</td>\n",
       "      <td>-0.478299</td>\n",
       "      <td>-0.127599</td>\n",
       "    </tr>\n",
       "    <tr>\n",
       "      <th>2</th>\n",
       "      <td>-1.672694</td>\n",
       "      <td>-0.453327</td>\n",
       "      <td>-0.472123</td>\n",
       "      <td>-1.304235</td>\n",
       "      <td>-0.25278</td>\n",
       "      <td>-0.863762</td>\n",
       "      <td>1.041952</td>\n",
       "      <td>-0.798347</td>\n",
       "      <td>1.189127</td>\n",
       "      <td>-0.75995</td>\n",
       "      <td>-1.097863</td>\n",
       "      <td>0.117264</td>\n",
       "      <td>0.406733</td>\n",
       "      <td>-1.356840</td>\n",
       "      <td>1.160655</td>\n",
       "    </tr>\n",
       "    <tr>\n",
       "      <th>3</th>\n",
       "      <td>-1.665921</td>\n",
       "      <td>-0.448330</td>\n",
       "      <td>-0.472123</td>\n",
       "      <td>-1.304235</td>\n",
       "      <td>-0.25278</td>\n",
       "      <td>-0.863762</td>\n",
       "      <td>1.253933</td>\n",
       "      <td>-0.499320</td>\n",
       "      <td>1.189127</td>\n",
       "      <td>-0.75995</td>\n",
       "      <td>-1.097863</td>\n",
       "      <td>0.117264</td>\n",
       "      <td>0.432990</td>\n",
       "      <td>-1.018177</td>\n",
       "      <td>1.466342</td>\n",
       "    </tr>\n",
       "    <tr>\n",
       "      <th>4</th>\n",
       "      <td>-1.652374</td>\n",
       "      <td>-0.445709</td>\n",
       "      <td>0.079980</td>\n",
       "      <td>-0.489936</td>\n",
       "      <td>-0.25278</td>\n",
       "      <td>-0.288758</td>\n",
       "      <td>-0.360821</td>\n",
       "      <td>-0.057898</td>\n",
       "      <td>0.935505</td>\n",
       "      <td>-0.53083</td>\n",
       "      <td>-0.576130</td>\n",
       "      <td>-1.511713</td>\n",
       "      <td>0.417953</td>\n",
       "      <td>-0.012106</td>\n",
       "      <td>0.014327</td>\n",
       "    </tr>\n",
       "  </tbody>\n",
       "</table>\n",
       "</div>"
      ],
      "text/plain": [
       "         ID      crim        zn     indus     chas       nox        rm  \\\n",
       "0 -1.693014 -0.456875  0.322906 -1.285631 -0.25278 -0.166787  0.440154   \n",
       "1 -1.686241 -0.454016 -0.472123 -0.604425 -0.25278 -0.767928  0.221060   \n",
       "2 -1.672694 -0.453327 -0.472123 -1.304235 -0.25278 -0.863762  1.041952   \n",
       "3 -1.665921 -0.448330 -0.472123 -1.304235 -0.25278 -0.863762  1.253933   \n",
       "4 -1.652374 -0.445709  0.079980 -0.489936 -0.25278 -0.288758 -0.360821   \n",
       "\n",
       "        age       dis      rad       tax   ptratio     black     lstat  \\\n",
       "0 -0.107736  0.192133 -0.98907 -0.664062 -1.465171  0.432990 -1.067772   \n",
       "1  0.379963  0.635528 -0.87451 -0.980620 -0.301616  0.432990 -0.478299   \n",
       "2 -0.798347  1.189127 -0.75995 -1.097863  0.117264  0.406733 -1.356840   \n",
       "3 -0.499320  1.189127 -0.75995 -1.097863  0.117264  0.432990 -1.018177   \n",
       "4 -0.057898  0.935505 -0.53083 -0.576130 -1.511713  0.417953 -0.012106   \n",
       "\n",
       "       medv  \n",
       "0  0.134419  \n",
       "1 -0.127599  \n",
       "2  1.160655  \n",
       "3  1.466342  \n",
       "4  0.014327  "
      ]
     },
     "execution_count": 8,
     "metadata": {},
     "output_type": "execute_result"
    }
   ],
   "source": [
    "ss = StandardScaler()\n",
    "for col in df:\n",
    "    df[col] = ss.fit_transform(df[col].values.reshape(-1,1))\n",
    "df.head()"
   ]
  },
  {
   "cell_type": "code",
   "execution_count": 9,
   "metadata": {},
   "outputs": [
    {
     "data": {
      "text/html": [
       "<div>\n",
       "<style scoped>\n",
       "    .dataframe tbody tr th:only-of-type {\n",
       "        vertical-align: middle;\n",
       "    }\n",
       "\n",
       "    .dataframe tbody tr th {\n",
       "        vertical-align: top;\n",
       "    }\n",
       "\n",
       "    .dataframe thead th {\n",
       "        text-align: right;\n",
       "    }\n",
       "</style>\n",
       "<table border=\"1\" class=\"dataframe\">\n",
       "  <thead>\n",
       "    <tr style=\"text-align: right;\">\n",
       "      <th></th>\n",
       "      <th>ID</th>\n",
       "      <th>crim</th>\n",
       "      <th>zn</th>\n",
       "      <th>indus</th>\n",
       "      <th>chas</th>\n",
       "      <th>nox</th>\n",
       "      <th>rm</th>\n",
       "      <th>age</th>\n",
       "      <th>dis</th>\n",
       "      <th>rad</th>\n",
       "      <th>tax</th>\n",
       "      <th>ptratio</th>\n",
       "      <th>black</th>\n",
       "      <th>lstat</th>\n",
       "      <th>medv</th>\n",
       "    </tr>\n",
       "  </thead>\n",
       "  <tbody>\n",
       "    <tr>\n",
       "      <th>0</th>\n",
       "      <td>-1.693014</td>\n",
       "      <td>-0.456875</td>\n",
       "      <td>0.322906</td>\n",
       "      <td>-1.285631</td>\n",
       "      <td>-0.25278</td>\n",
       "      <td>-0.166787</td>\n",
       "      <td>0.440154</td>\n",
       "      <td>-0.107736</td>\n",
       "      <td>0.192133</td>\n",
       "      <td>-0.98907</td>\n",
       "      <td>-0.664062</td>\n",
       "      <td>-1.465171</td>\n",
       "      <td>0.432990</td>\n",
       "      <td>-1.067772</td>\n",
       "      <td>0.134419</td>\n",
       "    </tr>\n",
       "    <tr>\n",
       "      <th>1</th>\n",
       "      <td>-1.686241</td>\n",
       "      <td>-0.454016</td>\n",
       "      <td>-0.472123</td>\n",
       "      <td>-0.604425</td>\n",
       "      <td>-0.25278</td>\n",
       "      <td>-0.767928</td>\n",
       "      <td>0.221060</td>\n",
       "      <td>0.379963</td>\n",
       "      <td>0.635528</td>\n",
       "      <td>-0.87451</td>\n",
       "      <td>-0.980620</td>\n",
       "      <td>-0.301616</td>\n",
       "      <td>0.432990</td>\n",
       "      <td>-0.478299</td>\n",
       "      <td>-0.127599</td>\n",
       "    </tr>\n",
       "    <tr>\n",
       "      <th>2</th>\n",
       "      <td>-1.672694</td>\n",
       "      <td>-0.453327</td>\n",
       "      <td>-0.472123</td>\n",
       "      <td>-1.304235</td>\n",
       "      <td>-0.25278</td>\n",
       "      <td>-0.863762</td>\n",
       "      <td>1.041952</td>\n",
       "      <td>-0.798347</td>\n",
       "      <td>1.189127</td>\n",
       "      <td>-0.75995</td>\n",
       "      <td>-1.097863</td>\n",
       "      <td>0.117264</td>\n",
       "      <td>0.406733</td>\n",
       "      <td>-1.356840</td>\n",
       "      <td>1.160655</td>\n",
       "    </tr>\n",
       "    <tr>\n",
       "      <th>3</th>\n",
       "      <td>-1.665921</td>\n",
       "      <td>-0.448330</td>\n",
       "      <td>-0.472123</td>\n",
       "      <td>-1.304235</td>\n",
       "      <td>-0.25278</td>\n",
       "      <td>-0.863762</td>\n",
       "      <td>1.253933</td>\n",
       "      <td>-0.499320</td>\n",
       "      <td>1.189127</td>\n",
       "      <td>-0.75995</td>\n",
       "      <td>-1.097863</td>\n",
       "      <td>0.117264</td>\n",
       "      <td>0.432990</td>\n",
       "      <td>-1.018177</td>\n",
       "      <td>1.466342</td>\n",
       "    </tr>\n",
       "    <tr>\n",
       "      <th>4</th>\n",
       "      <td>-1.652374</td>\n",
       "      <td>-0.445709</td>\n",
       "      <td>0.079980</td>\n",
       "      <td>-0.489936</td>\n",
       "      <td>-0.25278</td>\n",
       "      <td>-0.288758</td>\n",
       "      <td>-0.360821</td>\n",
       "      <td>-0.057898</td>\n",
       "      <td>0.935505</td>\n",
       "      <td>-0.53083</td>\n",
       "      <td>-0.576130</td>\n",
       "      <td>-1.511713</td>\n",
       "      <td>0.417953</td>\n",
       "      <td>-0.012106</td>\n",
       "      <td>0.014327</td>\n",
       "    </tr>\n",
       "  </tbody>\n",
       "</table>\n",
       "</div>"
      ],
      "text/plain": [
       "         ID      crim        zn     indus     chas       nox        rm  \\\n",
       "0 -1.693014 -0.456875  0.322906 -1.285631 -0.25278 -0.166787  0.440154   \n",
       "1 -1.686241 -0.454016 -0.472123 -0.604425 -0.25278 -0.767928  0.221060   \n",
       "2 -1.672694 -0.453327 -0.472123 -1.304235 -0.25278 -0.863762  1.041952   \n",
       "3 -1.665921 -0.448330 -0.472123 -1.304235 -0.25278 -0.863762  1.253933   \n",
       "4 -1.652374 -0.445709  0.079980 -0.489936 -0.25278 -0.288758 -0.360821   \n",
       "\n",
       "        age       dis      rad       tax   ptratio     black     lstat  \\\n",
       "0 -0.107736  0.192133 -0.98907 -0.664062 -1.465171  0.432990 -1.067772   \n",
       "1  0.379963  0.635528 -0.87451 -0.980620 -0.301616  0.432990 -0.478299   \n",
       "2 -0.798347  1.189127 -0.75995 -1.097863  0.117264  0.406733 -1.356840   \n",
       "3 -0.499320  1.189127 -0.75995 -1.097863  0.117264  0.432990 -1.018177   \n",
       "4 -0.057898  0.935505 -0.53083 -0.576130 -1.511713  0.417953 -0.012106   \n",
       "\n",
       "       medv  \n",
       "0  0.134419  \n",
       "1 -0.127599  \n",
       "2  1.160655  \n",
       "3  1.466342  \n",
       "4  0.014327  "
      ]
     },
     "execution_count": 9,
     "metadata": {},
     "output_type": "execute_result"
    }
   ],
   "source": [
    "df.head()"
   ]
  },
  {
   "cell_type": "code",
   "execution_count": 10,
   "metadata": {},
   "outputs": [
    {
     "data": {
      "text/plain": [
       "<matplotlib.axes._subplots.AxesSubplot at 0x25d5b73feb8>"
      ]
     },
     "execution_count": 10,
     "metadata": {},
     "output_type": "execute_result"
    },
    {
     "data": {
      "image/png": "[encoded data removed]",
      "text/plain": [
       "<Figure size 432x288 with 1 Axes>"
      ]
     },
     "metadata": {
      "needs_background": "light"
     },
     "output_type": "display_data"
    }
   ],
   "source": [
    "sns.scatterplot(x=\"lstat\",y=\"medv\",data=df)"
   ]
  },
  {
   "cell_type": "markdown",
   "metadata": {},
   "source": [
    "<h1>Models</h1>"
   ]
  },
  {
   "cell_type": "markdown",
   "metadata": {},
   "source": [
    "# Linear Regression"
   ]
  },
  {
   "cell_type": "code",
   "execution_count": 11,
   "metadata": {},
   "outputs": [
    {
     "name": "stdout",
     "output_type": "stream",
     "text": [
      "Score:  0.7078814945529877\n",
      "Error:  0.31263886151747666\n"
     ]
    }
   ],
   "source": [
    "from sklearn.model_selection import train_test_split\n",
    "X = df[[\"lstat\",\"rm\",\"ptratio\",\"indus\",\"tax\",\"nox\"]]\n",
    "y = df[\"medv\"]\n",
    "X_train,X_test,y_train,y_test = train_test_split(X,y,test_size=0.33,random_state=101)\n",
    "from sklearn.linear_model import LinearRegression\n",
    "lr = LinearRegression()\n",
    "lr.fit(X_train,y_train)\n",
    "print(\"Score: \",lr.score(X_test,y_test))\n",
    "from sklearn.metrics import mean_squared_error as mse\n",
    "print(\"Error: \",mse(lr.predict(X_test),y_test))"
   ]
  },
  {
   "cell_type": "markdown",
   "metadata": {},
   "source": [
    "# Polynomial Regression"
   ]
  },
  {
   "cell_type": "code",
   "execution_count": 14,
   "metadata": {},
   "outputs": [
    {
     "name": "stdout",
     "output_type": "stream",
     "text": [
      "Score 0.9063015871923884\n",
      "Error:  0.10028041551609222\n"
     ]
    }
   ],
   "source": [
    "from sklearn.preprocessing import PolynomialFeatures\n",
    "X = df[[\"lstat\",\"rm\",\"age\",\"dis\",\"ptratio\",\"tax\"]]\n",
    "y = df[\"medv\"]\n",
    "pf = PolynomialFeatures(degree=2,interaction_only=False)\n",
    "X_poly = pf.fit_transform(X)\n",
    "X_train,X_test,y_train,y_test = train_test_split(X_poly,y,test_size=0.33,random_state=101)\n",
    "from sklearn.linear_model import LinearRegression\n",
    "lr = LinearRegression()\n",
    "lr.fit(X_train,y_train)\n",
    "print(\"Score\",lr.score(X_test,y_test))\n",
    "from sklearn.metrics import mean_squared_error as mse\n",
    "print(\"Error: \",mse(lr.predict(X_test),y_test))"
   ]
  },
  {
   "cell_type": "markdown",
   "metadata": {},
   "source": [
    "# Random Forest Regressor"
   ]
  },
  {
   "cell_type": "code",
   "execution_count": 15,
   "metadata": {},
   "outputs": [
    {
     "name": "stdout",
     "output_type": "stream",
     "text": [
      "Score:  0.9069553377855879\n",
      "Error:  0.09958074111216668\n"
     ]
    }
   ],
   "source": [
    "from sklearn.model_selection import train_test_split\n",
    "X = df[[\"ptratio\",\"tax\",\"black\",\"ID\",\"rm\",\"lstat\",\"dis\"]]\n",
    "y = df[\"medv\"]\n",
    "X_train,X_test,y_train,y_test = train_test_split(X,y,test_size=0.33,random_state=101)\n",
    "from sklearn.ensemble import RandomForestRegressor\n",
    "rfr = RandomForestRegressor(n_estimators = 100, min_samples_leaf=1,min_samples_split=2,random_state=101)\n",
    "rfr.fit(X_train,y_train)\n",
    "print(\"Score: \",rfr.score(X_test,y_test))\n",
    "from sklearn.metrics import mean_squared_error as mse\n",
    "print(\"Error: \",mse(rfr.predict(X_test),y_test))"
   ]
  },
  {
   "cell_type": "code",
   "execution_count": null,
   "metadata": {},
   "outputs": [],
   "source": []
  }
 ],
 "metadata": {
  "kernelspec": {
   "display_name": "Python 3",
   "language": "python",
   "name": "python3"
  },
  "language_info": {
   "codemirror_mode": {
    "name": "ipython",
    "version": 3
   },
   "file_extension": ".py",
   "mimetype": "text/x-python",
   "name": "python",
   "nbconvert_exporter": "python",
   "pygments_lexer": "ipython3",
   "version": "3.7.0"
  }
 },
 "nbformat": 4,
 "nbformat_minor": 2
}
